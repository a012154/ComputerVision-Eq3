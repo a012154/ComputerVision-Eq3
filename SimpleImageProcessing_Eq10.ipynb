{
  "nbformat": 4,
  "nbformat_minor": 0,
  "metadata": {
    "colab": {
      "provenance": [],
      "authorship_tag": "ABX9TyPsJqQJMy3g4IufkCWugd1m",
      "include_colab_link": true
    },
    "kernelspec": {
      "name": "python3",
      "display_name": "Python 3"
    },
    "language_info": {
      "name": "python"
    }
  },
  "cells": [
    {
      "cell_type": "markdown",
      "metadata": {
        "id": "view-in-github",
        "colab_type": "text"
      },
      "source": [
        "<a href=\"https://colab.research.google.com/github/andreac941/ComputerVision-Eq3/blob/main/SimpleImageProcessing_Eq10.ipynb\" target=\"_parent\"><img src=\"https://colab.research.google.com/assets/colab-badge.svg\" alt=\"Open In Colab\"/></a>"
      ]
    },
    {
      "cell_type": "markdown",
      "source": [
        "**Equipo 10:**\n",
        "* Carlos Roberto Torres Ferguson A01215432\n",
        "* Andrea Carolina Treviño Garza A01034993\n",
        "* Julio Adrián Quintana Gracia A01793661\n",
        "* Pablo Alejandro Colunga Vázquez A01793671"
      ],
      "metadata": {
        "id": "BscQ9CaLgNT0"
      }
    },
    {
      "cell_type": "code",
      "execution_count": null,
      "metadata": {
        "id": "nWfJGuI5fVGx"
      },
      "outputs": [],
      "source": []
    }
  ]
}