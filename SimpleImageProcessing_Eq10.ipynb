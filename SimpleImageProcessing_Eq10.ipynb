{
  "nbformat": 4,
  "nbformat_minor": 0,
  "metadata": {
    "colab": {
      "provenance": [],
      "authorship_tag": "ABX9TyPvSJW48eAJkUi6lToGmUmd",
      "include_colab_link": true
    },
    "kernelspec": {
      "name": "python3",
      "display_name": "Python 3"
    },
    "language_info": {
      "name": "python"
    }
  },
  "cells": [
    {
      "cell_type": "markdown",
      "metadata": {
        "id": "view-in-github",
        "colab_type": "text"
      },
      "source": [
        "<a href=\"https://colab.research.google.com/github/andreac941/ComputerVision-Eq3/blob/main/SimpleImageProcessing_Eq10.ipynb\" target=\"_parent\"><img src=\"https://colab.research.google.com/assets/colab-badge.svg\" alt=\"Open In Colab\"/></a>"
      ]
    },
    {
      "cell_type": "markdown",
      "source": [
        "#**2.2 Google Colab - Simple_ImgProcessing**"
      ],
      "metadata": {
        "id": "kD-Gs5FEgjyD"
      }
    },
    {
      "cell_type": "markdown",
      "source": [
        "**Equipo 10:**\n",
        "* Carlos Roberto Torres Ferguson A01215432\n",
        "* Andrea Carolina Treviño Garza A01034993\n",
        "* Julio Adrián Quintana Gracia A01793661\n",
        "* Pablo Alejandro Colunga Vázquez A01793671"
      ],
      "metadata": {
        "id": "BscQ9CaLgNT0"
      }
    },
    {
      "cell_type": "markdown",
      "source": [
        "Los ejercicios que deben agregarse a este proyecto serán las siguientes:"
      ],
      "metadata": {
        "id": "RYzqWkZ3grMI"
      }
    },
    {
      "cell_type": "markdown",
      "source": [
        "1.   Las transformaciones pixel a pixel son sumamente utilizadas para aumentar la cantidad de imágenes para entrenar modelos de inteligencia artificial, sobre todo aquellas de tipo fotométrico. Investiga 3 tipos de transformaciones y aplicarlas en el proyecto de Google Collab sobre imágenes propias.\n",
        "\n",
        "\n"
      ],
      "metadata": {
        "id": "23_MwufhgsDx"
      }
    },
    {
      "cell_type": "code",
      "execution_count": null,
      "metadata": {
        "id": "nWfJGuI5fVGx"
      },
      "outputs": [],
      "source": []
    },
    {
      "cell_type": "markdown",
      "source": [
        "2.   Investiga una aplicación donde obtener el negativo de imagen tenga un valor específico e integra el código en en una fila de google collab, justificar brevemente tu investigación y haciendo una demo sencilla.\n",
        "\n"
      ],
      "metadata": {
        "id": "foekhK8Gg6Ap"
      }
    },
    {
      "cell_type": "code",
      "source": [],
      "metadata": {
        "id": "Ka6BmH0Zg9Yl"
      },
      "execution_count": null,
      "outputs": []
    },
    {
      "cell_type": "markdown",
      "source": [
        "3.   Investiga una aplicación donde se puede aplicar la corrección de gamma en una imagen. Integra el código en en una fila de google collab, justifica brevemente tu investigación y haz una demo sencilla.\n",
        "\n"
      ],
      "metadata": {
        "id": "SpCXJKVAg9wB"
      }
    },
    {
      "cell_type": "code",
      "source": [],
      "metadata": {
        "id": "dnDKltrIhDMD"
      },
      "execution_count": null,
      "outputs": []
    },
    {
      "cell_type": "markdown",
      "source": [
        "4. Investiga una aplicación donde se puede usar la sustracción de imágenes e integra el código en en una fila de google collab, justificar brevemente tu investigación, haciendo una demo sencilla."
      ],
      "metadata": {
        "id": "IxIaWir-hDnZ"
      }
    },
    {
      "cell_type": "code",
      "source": [],
      "metadata": {
        "id": "oxcod_FOhHFo"
      },
      "execution_count": null,
      "outputs": []
    }
  ]
}