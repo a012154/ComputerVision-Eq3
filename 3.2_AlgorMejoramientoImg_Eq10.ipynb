{
  "nbformat": 4,
  "nbformat_minor": 0,
  "metadata": {
    "colab": {
      "provenance": [],
      "authorship_tag": "ABX9TyPWuTn+Bb1oFNHmbAOcKaPE",
      "include_colab_link": true
    },
    "kernelspec": {
      "name": "python3",
      "display_name": "Python 3"
    },
    "language_info": {
      "name": "python"
    }
  },
  "cells": [
    {
      "cell_type": "markdown",
      "metadata": {
        "id": "view-in-github",
        "colab_type": "text"
      },
      "source": [
        "<a href=\"https://colab.research.google.com/github/andreac941/ComputerVision-Eq3/blob/main/3.2_AlgorMejoramientoImg_Eq10.ipynb\" target=\"_parent\"><img src=\"https://colab.research.google.com/assets/colab-badge.svg\" alt=\"Open In Colab\"/></a>"
      ]
    },
    {
      "cell_type": "markdown",
      "source": [
        "#**3.2 Google Colab - Algoritmos de mejoramiento de imágenes en el dominio espacial**"
      ],
      "metadata": {
        "id": "s1jkV5DrOLOs"
      }
    },
    {
      "cell_type": "markdown",
      "source": [
        "**Equipo 10:**\n",
        "* Carlos Roberto Torres Ferguson A01215432\n",
        "* Andrea Carolina Treviño Garza A01034993\n",
        "* Julio Adrián Quintana Gracia A01793661\n",
        "* Pablo Alejandro Colunga Vázquez A01793671"
      ],
      "metadata": {
        "id": "aoG39dL5OSrF"
      }
    },
    {
      "cell_type": "code",
      "execution_count": null,
      "metadata": {
        "id": "ffKNjutxNu6l"
      },
      "outputs": [],
      "source": [
        "#Cargar librerías:\n",
        "import numpy as np\n",
        "import pandas as pd\n",
        "import cv2 as cv \n",
        "from google.colab.patches import cv2_imshow # for image display\n",
        "from skimage import io\n",
        "from PIL import Image \n",
        "import matplotlib.pylab as plt\n",
        "import urllib.request\n",
        "import seaborn as sns"
      ]
    },
    {
      "cell_type": "markdown",
      "source": [
        "**1. Implementa los detectores de línea siguientes usando código en Python (es decir, sin usar librerías de OpenCV): Prewitt, Sobel y Laplaciano. Investiga la complejidad algoritmica de estos, ¿cual es más eficiente?**"
      ],
      "metadata": {
        "id": "lZmZOAYPPz5Q"
      }
    },
    {
      "cell_type": "code",
      "source": [],
      "metadata": {
        "id": "iZ5qyuGSP34b"
      },
      "execution_count": null,
      "outputs": []
    },
    {
      "cell_type": "markdown",
      "source": [
        "**2. Implementa un algoritmos de realce o mejoramiento de imágenes mediante un algoritmo de en el cual se extraen las líneas de la imagen y después se aplica la diferencia con la imagen original, multiplicando los píxeles de la imagen “máscara” (las líneas encontradas) por un factor alfa mayor a 1.**"
      ],
      "metadata": {
        "id": "fA8UUBKbP4Vb"
      }
    },
    {
      "cell_type": "code",
      "source": [],
      "metadata": {
        "id": "GsJwVy0nP7C9"
      },
      "execution_count": null,
      "outputs": []
    },
    {
      "cell_type": "markdown",
      "source": [
        "**3. Buscar una aplicación médica (en el libro de Gonzalez viene varios ejemplos de imágenes PET) y hacer mejoramiento usando la técnica de de la Figura 3.43 combinando diferentes etapas de procesamiento de imagenes**"
      ],
      "metadata": {
        "id": "niY747LVP7el"
      }
    },
    {
      "cell_type": "code",
      "source": [],
      "metadata": {
        "id": "W2byqMbsQH4z"
      },
      "execution_count": null,
      "outputs": []
    },
    {
      "cell_type": "code",
      "source": [
        "# TODO: Challenge, hard image with hard transformations?? -- Eso dice al final del colab que comparte el profe al principio de la actividad."
      ],
      "metadata": {
        "id": "jy1sO35WPyZf"
      },
      "execution_count": null,
      "outputs": []
    },
    {
      "cell_type": "markdown",
      "source": [
        "##**Bibliografía:**"
      ],
      "metadata": {
        "id": "c4kL-SK9O0Eo"
      }
    }
  ]
}