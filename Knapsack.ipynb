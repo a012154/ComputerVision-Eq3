{
  "nbformat": 4,
  "nbformat_minor": 0,
  "metadata": {
    "colab": {
      "provenance": [],
      "include_colab_link": true
    },
    "kernelspec": {
      "name": "python3",
      "display_name": "Python 3"
    },
    "language_info": {
      "name": "python"
    }
  },
  "cells": [
    {
      "cell_type": "markdown",
      "metadata": {
        "id": "view-in-github",
        "colab_type": "text"
      },
      "source": [
        "<a href=\"https://colab.research.google.com/github/andreac941/ComputerVision-Eq3/blob/main/Knapsack.ipynb\" target=\"_parent\"><img src=\"https://colab.research.google.com/assets/colab-badge.svg\" alt=\"Open In Colab\"/></a>"
      ]
    },
    {
      "cell_type": "markdown",
      "source": [
        "## **Knapsack Problem**"
      ],
      "metadata": {
        "id": "TSwCQvGUK5r_"
      }
    },
    {
      "cell_type": "markdown",
      "source": [
        "Es un tipo de problema de optimización combinatoria que implica seleccionar un subconjunto de elementos, cada uno con un peso y un valor específicos, para maximizar el valor total sin exceder una capacidad de peso dada.\n",
        "\n",
        "El problema se formula comúnmente de la siguiente manera:\n",
        "\n",
        "Dado un conjunto de elementos, cada uno con un peso wi y un valor\n",
        "vi, y una mochila con una capacidad máxima W, el objetivo es encontrar la combinación más valiosa de elementos para incluir en la mochila sin exceder su capacidad de peso.\n",
        "\n",
        "El problema de decisión se puede expresar de la siguiente manera: ¿Existe un subconjunto de elementos cuyo peso total sea menor o igual a W y cuyo valor total esté maximizado?\n",
        "\n",
        "Ejemplo rapido de aplicacion del algoritmo:\n",
        "\n",
        "Datos del problema:\n",
        "\n",
        "Bloque A: Dimensiones = 3m X 2m X 1m, Precio = $100.\n",
        "\n",
        "Bloque B: Dimensiones = 2m X 2m X 2m, Precio = $150.\n",
        "\n",
        "Bloque C: Dimensiones = 1m X 1m X 3m, Precio = $80.\n",
        "\n",
        "Capacidad máxima del volumen de la mochila: 15m3\n",
        "\n",
        "Formulación del problema de la mochila:\n",
        "\n",
        "v1 = 100, dim1 = (3,2,1)\n",
        "\n",
        "v2 = 150, dim1 = (2,2,2)\n",
        "\n",
        "v3 = 80, dim1 = (1,1,3)\n",
        "\n",
        "Vmax = 5m3 (capacidad máxima del volumen de la mochila)\n",
        "\n"
      ],
      "metadata": {
        "id": "67MsCTz-Mb8t"
      }
    },
    {
      "cell_type": "code",
      "source": [
        "def Mochila_0_1(dimensions, valores, capacidad_volumen):\n",
        "    n = len(valores)\n",
        "    matriz = [[0] * (capacidad_volumen + 1) for _ in range(n + 1)]\n",
        "\n",
        "    for i in range(1, n + 1):\n",
        "        for v in range(1, capacidad_volumen + 1):\n",
        "            if sum(dimensions[i-1]) <= v:\n",
        "                matriz[i][v] = max(valores[i-1] + matriz[i-1][v-sum(dimensions[i-1])], matriz[i-1][v])\n",
        "            else:\n",
        "                matriz[i][v] = matriz[i-1][v]\n",
        "\n",
        "    return matriz[n][capacidad_volumen]\n",
        "\n",
        "# Datos del problema\n",
        "dimensions = [(3, 2, 1), (2, 2, 2), (1, 1, 3)]\n",
        "valores = [100, 150, 80]\n",
        "capacidad_volumen = 15\n",
        "\n",
        "# Aplicar la función\n",
        "resultado = Mochila_0_1(dimensions, valores, capacidad_volumen)\n",
        "\n",
        "# Imprimir el resultado\n",
        "print(resultado)\n",
        "\n",
        "\n"
      ],
      "metadata": {
        "colab": {
          "base_uri": "https://localhost:8080/"
        },
        "id": "UT65_xB29lHk",
        "outputId": "3d9a1697-2af2-41a6-89fa-1d9714a26155"
      },
      "execution_count": null,
      "outputs": [
        {
          "output_type": "stream",
          "name": "stdout",
          "text": [
            "250\n"
          ]
        }
      ]
    },
    {
      "cell_type": "markdown",
      "source": [
        "El valor de 250 significa que, utilizando el algoritmo de la mochila adaptado para dimensiones y volumen, se puede maximizar el valor total seleccionando bloques de materia prima de manera óptima.\n",
        "\n",
        "Si se elige cortar y seleccionar bloques de manera óptima, siguiendo las restricciones de volumen y dimensiones, se podria obtener productos cuyo valor total es de $250."
      ],
      "metadata": {
        "id": "wEVGKW8--ZeL"
      }
    },
    {
      "cell_type": "markdown",
      "source": [
        "Ademas del algoritmo de Nutsack, otras formas de encontrar la solucion de un problema de optimizacion son:\n",
        "1. Programacion Lineal\n",
        "2. Algoritmos Geneticos\n",
        "3. Algoritmos de Enjambre\n",
        "4. Aprendizaje por Refuerzo\n",
        "5. Redes Neuronales"
      ],
      "metadata": {
        "id": "a4H-0s3P_Tb2"
      }
    }
  ]
}